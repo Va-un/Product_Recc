{
 "cells": [
  {
   "cell_type": "code",
   "execution_count": 1,
   "metadata": {
    "_cell_guid": "41f0dea0-cc82-44fb-8f2c-2a3800fc259d",
    "_uuid": "e3143105-724b-4dce-9ac6-24d80b94cbff",
    "collapsed": false,
    "jupyter": {
     "outputs_hidden": false
    }
   },
   "outputs": [],
   "source": [
    "#Basic Libraries\n",
    "import numpy as np\n",
    "import pandas as pd\n",
    "\n",
    "#Visualization Libraries\n",
    "import matplotlib.pyplot as plt\n",
    "import seaborn as sns\n",
    "import plotly.express as px\n",
    "\n",
    "#Text Handling Libraries\n",
    "import re\n",
    "from sklearn.feature_extraction.text import TfidfVectorizer, CountVectorizer\n",
    "from sklearn.metrics.pairwise import linear_kernel, cosine_similarity"
   ]
  },
  {
   "cell_type": "code",
   "execution_count": 2,
   "metadata": {
    "_cell_guid": "2a022fcf-d8f7-44d6-b5d9-11db5be2000e",
    "_uuid": "81c0247e-e3a8-418c-b196-91f05fe9e69b",
    "collapsed": false,
    "jupyter": {
     "outputs_hidden": false
    }
   },
   "outputs": [],
   "source": [
    "df = pd.read_csv('BigBasket Products.csv',index_col='index')"
   ]
  },
  {
   "cell_type": "code",
   "execution_count": 3,
   "metadata": {
    "_cell_guid": "82fde90f-8907-4799-9e0b-254078102ca1",
    "_uuid": "66656ade-5e5d-4fd0-8fa1-459772cb7682",
    "collapsed": false,
    "jupyter": {
     "outputs_hidden": false
    }
   },
   "outputs": [
    {
     "data": {
      "text/plain": [
       "product            1\n",
       "category           0\n",
       "sub_category       0\n",
       "brand              1\n",
       "sale_price         0\n",
       "market_price       0\n",
       "type               0\n",
       "rating          8626\n",
       "description      115\n",
       "dtype: int64"
      ]
     },
     "execution_count": 3,
     "metadata": {},
     "output_type": "execute_result"
    }
   ],
   "source": [
    "df.isnull().sum()"
   ]
  },
  {
   "cell_type": "code",
   "execution_count": 4,
   "metadata": {
    "_cell_guid": "7ec75f7c-83bf-4913-967d-d674f5f9b494",
    "_uuid": "247a389c-08fd-4e76-ab7f-c0c6467529c0",
    "collapsed": false,
    "jupyter": {
     "outputs_hidden": false
    }
   },
   "outputs": [
    {
     "name": "stdout",
     "output_type": "stream",
     "text": [
      "Total Null Data\n",
      "3.53\n",
      "0.00\n"
     ]
    }
   ],
   "source": [
    "print('Total Null Data')\n",
    "null_count = df.isnull().sum().sum()\n",
    "total_count = np.product(df.shape)\n",
    "print(\"{:.2f}\".format(null_count/total_count * 100))\n",
    "df = df.dropna()\n",
    "null_count = df.isnull().sum().sum()\n",
    "total_count = np.product(df.shape)\n",
    "print(\"{:.2f}\".format(null_count/total_count * 100))"
   ]
  },
  {
   "cell_type": "code",
   "execution_count": 5,
   "metadata": {
    "_cell_guid": "f0d227a8-954c-4295-8488-03f5dd0c92c9",
    "_uuid": "2ef4736b-9d42-4e92-886a-c7c6e214cab1",
    "collapsed": false,
    "jupyter": {
     "outputs_hidden": false
    }
   },
   "outputs": [],
   "source": [
    "df2 = df.copy()\n",
    "rmv_spc = lambda a:a.strip()\n",
    "get_list = lambda a:list(map(rmv_spc,re.split('& |, |\\*|\\n', a)))\n",
    "for col in ['category', 'sub_category', 'type']:\n",
    "    df2[col] = df2[col].apply(get_list)"
   ]
  },
  {
   "cell_type": "code",
   "execution_count": 6,
   "metadata": {
    "_cell_guid": "d9c5b101-5f22-4d72-ab5e-a3c0c5072dc2",
    "_uuid": "c05d0036-57b0-44ba-8770-1728b1330b44",
    "collapsed": false,
    "jupyter": {
     "outputs_hidden": false
    }
   },
   "outputs": [],
   "source": [
    "def cleaner(x):\n",
    "    if isinstance(x, list):\n",
    "        return [str.lower(i.replace(\" \", \"\")) for i in x]\n",
    "    else:\n",
    "        if isinstance(x, str):\n",
    "            return str.lower(x.replace(\" \", \"\"))\n",
    "        else:\n",
    "            return ''"
   ]
  },
  {
   "cell_type": "code",
   "execution_count": 7,
   "metadata": {
    "_cell_guid": "d2bed320-3105-4308-be8f-5e9b4ecf3016",
    "_uuid": "9640827d-2276-441e-960a-af874a0e6707",
    "collapsed": false,
    "jupyter": {
     "outputs_hidden": false
    }
   },
   "outputs": [],
   "source": [
    "for col in ['category', 'sub_category', 'type','brand']:\n",
    "    df2[col] = df2[col].apply(cleaner)\n",
    "def couple(x):\n",
    "    return ' '.join(x['category']) + ' ' + ' '.join(x['sub_category']) + ' '+x['brand']+' ' +' '.join( x['type'])\n",
    "df2['soup'] = df2.apply(couple, axis=1)"
   ]
  },
  {
   "cell_type": "code",
   "execution_count": 8,
   "metadata": {
    "_cell_guid": "bc393288-3788-48e7-a114-bd3d747343ed",
    "_uuid": "73b3ee43-4245-4ea2-86f9-bbfb6d1a7445",
    "collapsed": false,
    "jupyter": {
     "outputs_hidden": false
    }
   },
   "outputs": [],
   "source": [
    "count = CountVectorizer(stop_words='english')\n",
    "count_matrix = count.fit_transform(df2['soup'])\n",
    "cosine_sim2 = cosine_similarity(count_matrix, count_matrix)\n",
    "df2 = df2.reset_index()\n",
    "indices = pd.Series(df2.index, index=df2['product'])"
   ]
  },
  {
   "cell_type": "code",
   "execution_count": 9,
   "metadata": {
    "_cell_guid": "74fa6f3b-6d2d-48d1-a5b9-3913059486af",
    "_uuid": "05a0bdcc-12a4-4a5f-bf1f-ea4a5e07f442",
    "collapsed": false,
    "jupyter": {
     "outputs_hidden": false
    }
   },
   "outputs": [],
   "source": [
    "def get_recommendations(title, cosine_sim=cosine_sim2):\n",
    "    idx = indices[title]\n",
    "    sim_scores = list(enumerate(cosine_sim[idx]))\n",
    "\n",
    "    sim_scores = sorted(sim_scores, key=lambda x: x[1], reverse=True)\n",
    "\n",
    "    sim_scores = sim_scores[1:11]\n",
    "\n",
    "    movie_indices = [i[0] for i in sim_scores]\n",
    "\n",
    "    return df2['product'].iloc[movie_indices]\n",
    "\n",
    "\n",
    "\n"
   ]
  },
  {
   "cell_type": "code",
   "execution_count": 10,
   "metadata": {
    "_cell_guid": "de6e466c-f1de-44a7-832e-327d97071b22",
    "_uuid": "953f1159-0d70-4428-a709-ad19bef559b1",
    "collapsed": false,
    "jupyter": {
     "outputs_hidden": false
    }
   },
   "outputs": [],
   "source": [
    "def find(name,number):\n",
    "    new_rec = get_recommendations(name, cosine_sim2).values\n",
    "    df1 = pd.DataFrame({'product':new_rec})\n",
    "    result = pd.merge(df1, df2, on='product', how='left')\n",
    "    return result[['product', 'category', 'brand', 'sale_price', 'rating', 'description']].head(number)\n",
    "\n",
    "\n"
   ]
  },
  {
   "cell_type": "code",
   "execution_count": 11,
   "metadata": {
    "_cell_guid": "cf1e3ea7-02ee-4383-9847-10fb403ae607",
    "_uuid": "7b723202-7fca-4528-bbcb-b069ce161216",
    "collapsed": false,
    "jupyter": {
     "outputs_hidden": false
    }
   },
   "outputs": [
    {
     "data": {
      "text/html": [
       "<div>\n",
       "<style scoped>\n",
       "    .dataframe tbody tr th:only-of-type {\n",
       "        vertical-align: middle;\n",
       "    }\n",
       "\n",
       "    .dataframe tbody tr th {\n",
       "        vertical-align: top;\n",
       "    }\n",
       "\n",
       "    .dataframe thead th {\n",
       "        text-align: right;\n",
       "    }\n",
       "</style>\n",
       "<table border=\"1\" class=\"dataframe\">\n",
       "  <thead>\n",
       "    <tr style=\"text-align: right;\">\n",
       "      <th></th>\n",
       "      <th>product</th>\n",
       "      <th>category</th>\n",
       "      <th>brand</th>\n",
       "      <th>sale_price</th>\n",
       "      <th>rating</th>\n",
       "      <th>description</th>\n",
       "    </tr>\n",
       "  </thead>\n",
       "  <tbody>\n",
       "    <tr>\n",
       "      <th>0</th>\n",
       "      <td>Nutties Chocolate Pack</td>\n",
       "      <td>[snacks, brandedfoods]</td>\n",
       "      <td>cadbury</td>\n",
       "      <td>39.6</td>\n",
       "      <td>4.2</td>\n",
       "      <td>Candied nuts usually almonds and cashews with ...</td>\n",
       "    </tr>\n",
       "    <tr>\n",
       "      <th>1</th>\n",
       "      <td>5 Star Chocolate Bar</td>\n",
       "      <td>[snacks, brandedfoods]</td>\n",
       "      <td>cadbury</td>\n",
       "      <td>39.2</td>\n",
       "      <td>4.3</td>\n",
       "      <td>A delicious indulgent combination of chocolate...</td>\n",
       "    </tr>\n",
       "    <tr>\n",
       "      <th>2</th>\n",
       "      <td>Dairy Milk Silk - Hazelnut Chocolate Bar</td>\n",
       "      <td>[snacks, brandedfoods]</td>\n",
       "      <td>cadbury</td>\n",
       "      <td>80.0</td>\n",
       "      <td>4.2</td>\n",
       "      <td>Deliciously crunchy, whole hazelnuts covered i...</td>\n",
       "    </tr>\n",
       "    <tr>\n",
       "      <th>3</th>\n",
       "      <td>Perk - Chocolate, Home Treats, 175.5 g, 27 Units</td>\n",
       "      <td>[snacks, brandedfoods]</td>\n",
       "      <td>cadbury</td>\n",
       "      <td>122.0</td>\n",
       "      <td>4.2</td>\n",
       "      <td>Perk is a combination of the crisp wafer and d...</td>\n",
       "    </tr>\n",
       "    <tr>\n",
       "      <th>4</th>\n",
       "      <td>Dark Milk Chocolate Bar</td>\n",
       "      <td>[snacks, brandedfoods]</td>\n",
       "      <td>cadbury</td>\n",
       "      <td>179.1</td>\n",
       "      <td>4.3</td>\n",
       "      <td>Welcome to Cadbury Dark milk with a delightful...</td>\n",
       "    </tr>\n",
       "  </tbody>\n",
       "</table>\n",
       "</div>"
      ],
      "text/plain": [
       "                                            product                category  \\\n",
       "0                            Nutties Chocolate Pack  [snacks, brandedfoods]   \n",
       "1                              5 Star Chocolate Bar  [snacks, brandedfoods]   \n",
       "2          Dairy Milk Silk - Hazelnut Chocolate Bar  [snacks, brandedfoods]   \n",
       "3  Perk - Chocolate, Home Treats, 175.5 g, 27 Units  [snacks, brandedfoods]   \n",
       "4                           Dark Milk Chocolate Bar  [snacks, brandedfoods]   \n",
       "\n",
       "     brand  sale_price  rating  \\\n",
       "0  cadbury        39.6     4.2   \n",
       "1  cadbury        39.2     4.3   \n",
       "2  cadbury        80.0     4.2   \n",
       "3  cadbury       122.0     4.2   \n",
       "4  cadbury       179.1     4.3   \n",
       "\n",
       "                                         description  \n",
       "0  Candied nuts usually almonds and cashews with ...  \n",
       "1  A delicious indulgent combination of chocolate...  \n",
       "2  Deliciously crunchy, whole hazelnuts covered i...  \n",
       "3  Perk is a combination of the crisp wafer and d...  \n",
       "4  Welcome to Cadbury Dark milk with a delightful...  "
      ]
     },
     "execution_count": 11,
     "metadata": {},
     "output_type": "execute_result"
    }
   ],
   "source": [
    "find('Cadbury Perk - Chocolate Bar',5 )"
   ]
  },
  {
   "cell_type": "code",
   "execution_count": 63,
   "metadata": {
    "tags": []
   },
   "outputs": [],
   "source": [
    "import streamlit as st\n",
    "\n",
    "\n",
    "def similar(target_word):\n",
    "    # Find similar words within the DataFrame\n",
    "    similar_words = df2[df2['product'].str.contains(target_word, case=False, na=False)]\n",
    "    df = pd.DataFrame(similar_words)\n",
    "    return df['product'].to_numpy()\n",
    "\n",
    "\n",
    "st.image('dataset-cover.jpg')\n",
    "\n",
    "\n",
    "try:\n",
    "    st.text('Enter Product')\n",
    "except:\n",
    "    # Handle the exception and display a warning message\n",
    "    st.warning(\"No Product Found\")\n",
    "\n",
    "\n",
    "val = st.text_input(\"Name\")\n",
    "song = st.selectbox(\"Pick one\", similar(val))\n",
    "inp = st.slider('No of Recommender Products', 0, 40, 5)\n",
    "\n",
    "\n",
    "if st.button('Similar products'):\n",
    "    value = find('Cadbury Perk - Chocolate Bar',5 )\n",
    "    st.dataframe(value)\n",
    "    st.button(\"Reset\", type=\"primary\")\n",
    "else:\n",
    "    st.write('')\n"
   ]
  },
  {
   "cell_type": "code",
   "execution_count": null,
   "metadata": {},
   "outputs": [],
   "source": []
  }
 ],
 "metadata": {
  "kernelspec": {
   "display_name": "Bankai",
   "language": "python",
   "name": "bankai"
  },
  "language_info": {
   "codemirror_mode": {
    "name": "ipython",
    "version": 3
   },
   "file_extension": ".py",
   "mimetype": "text/x-python",
   "name": "python",
   "nbconvert_exporter": "python",
   "pygments_lexer": "ipython3",
   "version": "3.10.9"
  }
 },
 "nbformat": 4,
 "nbformat_minor": 4
}
